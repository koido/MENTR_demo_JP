{
 "cells": [
  {
   "cell_type": "markdown",
   "metadata": {
    "id": "fBiZNj41NK-L"
   },
   "source": [
    "# **MENTR**"
   ]
  },
  {
   "cell_type": "markdown",
   "metadata": {
    "id": "VWwaWRismb2i"
   },
   "source": [
    "## 1. CPUに関する確認\n",
    "\n",
    "初回実行時のみ必要。\n",
    "\n",
    "### 1.1 CPUアーキテクチャの確認\n",
    "\n",
    "次の出力が arm64 であることを確認する。"
   ]
  },
  {
   "cell_type": "code",
   "execution_count": 1,
   "metadata": {},
   "outputs": [
    {
     "name": "stdout",
     "output_type": "stream",
     "text": [
      "arm64\n"
     ]
    }
   ],
   "source": [
    "!uname -m"
   ]
  },
  {
   "cell_type": "markdown",
   "metadata": {},
   "source": [
    "### 1.2 CPU数（スレッド数)の確認\n",
    "\n",
    "次の数を確認し、後述の `n_cpu` で指定する。"
   ]
  },
  {
   "cell_type": "code",
   "execution_count": 2,
   "metadata": {
    "colab": {
     "base_uri": "https://localhost:8080/"
    },
    "id": "w27xxMu8mBiI",
    "outputId": "7b994f49-8de0-4011-c067-671f45b3831a"
   },
   "outputs": [
    {
     "data": {
      "text/plain": [
       "8"
      ]
     },
     "execution_count": 2,
     "metadata": {},
     "output_type": "execute_result"
    }
   ],
   "source": [
    "import multiprocessing\n",
    "\n",
    "cores = multiprocessing.cpu_count() # Count the number of cores in a computer\n",
    "cores"
   ]
  },
  {
   "cell_type": "markdown",
   "metadata": {
    "id": "Ymo5sOG6NdjU"
   },
   "source": [
    "## 2. MENTRのセットアップ\n",
    "\n",
    "初回実行時のみ必要。\n",
    "\n",
    "### 2.1. MENTRのスクリプトと学習済モデルのダウンロード\n",
    "\n",
    "MENTRをセットアップするディレクトリに移動（任意）。"
   ]
  },
  {
   "cell_type": "code",
   "execution_count": 3,
   "metadata": {},
   "outputs": [
    {
     "name": "stdout",
     "output_type": "stream",
     "text": [
      "/private/tmp\n"
     ]
    }
   ],
   "source": [
    "cd /tmp"
   ]
  },
  {
   "cell_type": "markdown",
   "metadata": {},
   "source": [
    "`git` を用いてMENTR一式をダウンロード"
   ]
  },
  {
   "cell_type": "code",
   "execution_count": 4,
   "metadata": {
    "colab": {
     "base_uri": "https://localhost:8080/"
    },
    "id": "zBr40LGj191W",
    "outputId": "dc2f4153-7218-45cb-91d1-7c479d628c94"
   },
   "outputs": [
    {
     "name": "stdout",
     "output_type": "stream",
     "text": [
      "Cloning into 'MENTR'...\n",
      "remote: Enumerating objects: 786, done.\u001b[K\n",
      "remote: Counting objects: 100% (56/56), done.\u001b[K\n",
      "remote: Compressing objects: 100% (42/42), done.\u001b[K\n",
      "remote: Total 786 (delta 22), reused 34 (delta 13), pack-reused 730\u001b[K\n",
      "Receiving objects: 100% (786/786), 190.30 MiB | 10.29 MiB/s, done.\n",
      "Resolving deltas: 100% (26/26), done.\n",
      "Updating files: 100% (730/730), done.\n"
     ]
    }
   ],
   "source": [
    "!git clone https://github.com/koido/MENTR"
   ]
  },
  {
   "cell_type": "markdown",
   "metadata": {},
   "source": [
    "ダウンロードしたMENTRディレクトリに移動"
   ]
  },
  {
   "cell_type": "code",
   "execution_count": 5,
   "metadata": {},
   "outputs": [
    {
     "name": "stdout",
     "output_type": "stream",
     "text": [
      "/private/tmp/MENTR\n"
     ]
    }
   ],
   "source": [
    "cd MENTR"
   ]
  },
  {
   "cell_type": "markdown",
   "metadata": {
    "id": "9HBoMGf_-rBo"
   },
   "source": [
    "### 2.2. MENTR依存ライブラリのインストールする\n",
    "\n",
    "数分要する。"
   ]
  },
  {
   "cell_type": "code",
   "execution_count": null,
   "metadata": {
    "colab": {
     "base_uri": "https://localhost:8080/"
    },
    "id": "2CKntTz82YrX",
    "outputId": "b8972b01-e514-460b-a74b-d547b2ba4086"
   },
   "outputs": [],
   "source": [
    "%%bash\n",
    "CONDA_SUBDIR=osx-64 conda create -y -n mentr python=3.6.4\n",
    "eval \"$(conda shell.bash hook)\" \n",
    "conda activate mentr\n",
    "conda config --env --set subdir osx-64\n",
    "conda install -y -c pytorch -c conda-forge -c bioconda --file mentr_env.txt"
   ]
  },
  {
   "cell_type": "markdown",
   "metadata": {
    "id": "bMsrmQiG-d-P"
   },
   "source": [
    "### 2.3. External Dependencyのダウンロード\n",
    "\n",
    "30分程度要する場合がある。"
   ]
  },
  {
   "cell_type": "code",
   "execution_count": null,
   "metadata": {
    "colab": {
     "base_uri": "https://localhost:8080/"
    },
    "id": "Yk9LRyGwLlqh",
    "outputId": "cd66d589-e769-4976-cc0d-e2b80e91feb0"
   },
   "outputs": [],
   "source": [
    "!wget http://deepsea.princeton.edu/media/code/expecto/resources.tar.gz\n",
    "!tar xfz resources.tar.gz -C ./"
   ]
  },
  {
   "cell_type": "markdown",
   "metadata": {
    "id": "3jilt9udNrDm"
   },
   "source": [
    "## 3. MENTR *in silico*変異導入法の実行\n",
    "\n",
    "本デモではtarget CAGE IDを `-p`オプションで指定している。\n",
    "\n",
    "`-p`オプションを用いない場合、各バリアントとFANTOM5の全CAGE IDの距離を計算し、前後100kb (default) のペアを探索する（1染色体あたり30分程度要する可能性がある）。\n",
    "\n",
    "この場合、各自の計算機環境に応じて分散処理をするなど、shellスクリプトの改造をおすすめする。\n",
    "\n",
    "### 3.1 実行\n",
    "\n",
    "macOSでの実行例を示している。"
   ]
  },
  {
   "cell_type": "code",
   "execution_count": null,
   "metadata": {
    "colab": {
     "base_uri": "https://localhost:8080/"
    },
    "id": "XxwCNExxHi9I",
    "outputId": "eefb9825-c111-40ad-d332-70a6f2d4323f"
   },
   "outputs": [],
   "source": [
    "%%bash\n",
    "eval \"$(conda shell.bash hook)\" \n",
    "conda activate mentr\n",
    "\n",
    "# alias for macOS\n",
    "zcat() { gzcat \"$@\"; }\n",
    "export -f zcat\n",
    "\n",
    "# output directory\n",
    "cmn_dir=${PWD}/demo\n",
    "rm -Rf ${cmn_dir}\n",
    "mkdir -p ${cmn_dir}\n",
    "\n",
    "# input file (example: rs12637953)\n",
    "in_f=${PWD}/resources/example/rs12637953.txt\n",
    "\n",
    "# target CAGE ID\n",
    "target_CAGE_ID=\"chr3:112395778-112395997\"\n",
    "\n",
    "# DeepSEA Beluga\n",
    "deepsea=${PWD}/resources/deepsea.beluga.2002.cpu\n",
    "\n",
    "# hg19\n",
    "hg19_fa=${PWD}/resources/hg19.fa\n",
    "\n",
    "# Window size [default=100000]\n",
    "w_size=1000\n",
    "\n",
    "# N of CPUs (threads)\n",
    "n_cpu=10\n",
    "\n",
    "# run\n",
    "bash bin/quick.mutgen.sh -i ${in_f} -o ${cmn_dir} -m ${deepsea} -f ${hg19_fa} -w ${w_size} -t ${n_cpu} -p ${target_CAGE_ID} -c"
   ]
  },
  {
   "cell_type": "markdown",
   "metadata": {},
   "source": [
    "### 3.2 結果の確認"
   ]
  },
  {
   "cell_type": "code",
   "execution_count": null,
   "metadata": {},
   "outputs": [],
   "source": [
    "import pandas as pd\n",
    "\n",
    "# summarized result\n",
    "in_f = 'demo/output/all_qcd_res.txt.gz'\n",
    "\n",
    "# specify dtype\n",
    "df_h = pd.read_csv(in_f, sep='\\t', header=None, dtype = 'str', nrows=1).values.reshape(-1).tolist()\n",
    "df_dtypes = {}\n",
    "for x in df_h:\n",
    "    if x in ['CHR', 'REF', 'ALT', 'gene', 'strand']:\n",
    "        df_dtypes[x] = 'str'\n",
    "    elif x in ['POS', 'dist']:\n",
    "        df_dtypes[x] = 'int64'\n",
    "    elif x in ['ref_matched']:\n",
    "        df_dtypes[x] = 'bool'\n",
    "    else:\n",
    "        df_dtypes[x] = 'float64'\n",
    "\n",
    "# read table        \n",
    "df = pd.read_csv(in_f, sep='\\t', dtype=df_dtypes)\n",
    "df"
   ]
  }
 ],
 "metadata": {
  "colab": {
   "collapsed_sections": [
    "VWwaWRismb2i",
    "TbS4-aNpYtDD",
    "Ymo5sOG6NdjU"
   ],
   "provenance": []
  },
  "gpuClass": "standard",
  "kernelspec": {
   "display_name": "Python 3 (ipykernel)",
   "language": "python",
   "name": "python3"
  },
  "language_info": {
   "codemirror_mode": {
    "name": "ipython",
    "version": 3
   },
   "file_extension": ".py",
   "mimetype": "text/x-python",
   "name": "python",
   "nbconvert_exporter": "python",
   "pygments_lexer": "ipython3",
   "version": "3.9.13"
  }
 },
 "nbformat": 4,
 "nbformat_minor": 4
}
